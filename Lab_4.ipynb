{
  "nbformat": 4,
  "nbformat_minor": 0,
  "metadata": {
    "colab": {
      "provenance": [],
      "include_colab_link": true
    },
    "kernelspec": {
      "name": "python3",
      "display_name": "Python 3"
    },
    "language_info": {
      "name": "python"
    }
  },
  "cells": [
    {
      "cell_type": "markdown",
      "metadata": {
        "id": "view-in-github",
        "colab_type": "text"
      },
      "source": [
        "<a href=\"https://colab.research.google.com/github/supitcha0887/Python_lab4/blob/main/Lab_4.ipynb\" target=\"_parent\"><img src=\"https://colab.research.google.com/assets/colab-badge.svg\" alt=\"Open In Colab\"/></a>"
      ]
    },
    {
      "cell_type": "markdown",
      "source": [
        "4.1 2520 คือ ตัวเลขที่น้อยที่สุด ที่สามารถหารด้วยตัวเลขทุกตัวตั้งแต่ 1-10 จงหาจำนวนเต็มบวกที่น้อยที่สุดที่หารด้วยตัวเลขทุกตัวตั้งแต่ 1-20\n",
        "\n",
        "15 = 360360\n",
        "\n",
        "20 = 232792560\n",
        "\n",
        "ปล. ห้าม import math"
      ],
      "metadata": {
        "id": "-bpz7hteQPdz"
      }
    },
    {
      "cell_type": "code",
      "execution_count": null,
      "metadata": {
        "id": "HSZUXcF2QMVn",
        "colab": {
          "base_uri": "https://localhost:8080/"
        },
        "outputId": "b0545970-5e13-42b4-8ac2-0d3711315236"
      },
      "outputs": [
        {
          "output_type": "stream",
          "name": "stdout",
          "text": [
            "232792560\n"
          ]
        }
      ],
      "source": [
        "lcm = 1\n",
        "for i in range(1, 21):\n",
        "    a = lcm\n",
        "    b = i\n",
        "    while b:\n",
        "        a, b = b, a % b\n",
        "    lcm = (lcm * i) // a\n",
        "print(lcm)"
      ]
    },
    {
      "cell_type": "markdown",
      "source": [
        "4.2 จำนวนเฉพาะ (Prime Number) คือตัวเลขที่มีแต่ 1 กับตัวมันเองที่หารลงตัว โดยจำนวนเฉพาะ 6 ตัวแรกคือ 2, 3, 5, 7, 11, 13 โดยจำนวนเฉพาะตัวที่ 6 คือ 13 จงหาจำนวนเฉพาะตัวที่ 101\n",
        "\n",
        "=> 547"
      ],
      "metadata": {
        "id": "Wq1EFYHUWNOA"
      }
    },
    {
      "cell_type": "code",
      "source": [
        "prime_numbers = []\n",
        "x = 1\n",
        "while len(prime_numbers) < 101:\n",
        "    if 1 < x <= 3:\n",
        "        prime_numbers.append(x)\n",
        "    else:\n",
        "        count_diviable = 0\n",
        "        for num in range(1, x + 1):\n",
        "            if x % num == 0:\n",
        "                count_diviable += 1\n",
        "        if count_diviable == 2:\n",
        "            prime_numbers.append(x)\n",
        "    x += 1\n",
        "print(prime_numbers[-1])"
      ],
      "metadata": {
        "colab": {
          "base_uri": "https://localhost:8080/"
        },
        "id": "cpMa6Vp0Vz_L",
        "outputId": "77ea2cea-7189-43df-81aa-cf997bee38a7"
      },
      "execution_count": null,
      "outputs": [
        {
          "output_type": "stream",
          "name": "stdout",
          "text": [
            "547\n"
          ]
        }
      ]
    },
    {
      "cell_type": "markdown",
      "source": [
        "1.\tกำหนดให้มี List หนึ่งประกอบด้วยตัวเลขจำนวนหนึ่ง และ ให้รับตัวเลขจำนวน 1 จำนวน จากนั้นให้หาว่าใน List มีตัวเลข 2 จำนวนใดที่บวกกันเท่ากับตัวเลขที่รับมา ให้แสดงคำตอบเป็น List เช่น Output: [0,1] โดยอาจมีมากกว่า 1 คำตอบ\n",
        "\n",
        "ตัวอย่าง list : [2, 7, 11, 15]\n",
        "\n",
        "Input : 9\n",
        "\n",
        "Output : 2 + 7 = 9 (ถ้าไม่มีให้บอก None)\n"
      ],
      "metadata": {
        "id": "-pUpw-m_WqFG"
      }
    },
    {
      "cell_type": "code",
      "source": [
        "list1 = [2, 7, 11, 15]\n",
        "x = int(input(\"\"))\n",
        "found = False\n",
        "for i in range(len(list1)):\n",
        "    for j in range(i + 1, len(list1)):\n",
        "        if list1[i] + list1[j] == x:\n",
        "            print(f\"{list1[i]} + {list1[j]} = {x}\")\n",
        "            found = True\n",
        "if not found:\n",
        "    print(\"None\")"
      ],
      "metadata": {
        "id": "s3djwBi4ks1g",
        "colab": {
          "base_uri": "https://localhost:8080/"
        },
        "outputId": "efc00b4c-aa44-4b73-f075-95950e258d16"
      },
      "execution_count": null,
      "outputs": [
        {
          "output_type": "stream",
          "name": "stdout",
          "text": [
            "9\n",
            "2 + 7 = 9\n"
          ]
        }
      ]
    },
    {
      "cell_type": "markdown",
      "source": [
        "2.\tให้เขียนโปรแกรมรับข้อมูล 1 บรรทัด ประกอบด้วยตัวเลข 1 หลัก จำนวนไม่เกิน 10 ตัว คั่นด้วยช่องว่าง จากนั้นให้นำตัวเลขที่รับเข้ามาเรียงกัน และหาลำดับการเรียงที่ทำให้มีค่าน้อยที่สุด โดยต้องไม่ขึ้นต้นด้วย 0\n",
        "\n",
        "Input : 9 4 6 2  \n",
        "\n",
        "คำตอบ 2469\n",
        "\n",
        "Input : 3 0 8 1 3 3\n",
        "\n",
        "คำตอบ : 103338\n"
      ],
      "metadata": {
        "id": "_3yLG291lSFy"
      }
    },
    {
      "cell_type": "code",
      "source": [
        "input_str = input().strip()\n",
        "numbers = input_str.split()\n",
        "if not numbers:\n",
        "    print(\"No input provided\")\n",
        "    exit()\n",
        "numbers.sort()\n",
        "if numbers[0] == '0':\n",
        "    for i in range(1, len(numbers)):\n",
        "        if numbers[i] != '0':\n",
        "            numbers[0], numbers[i] = numbers[i], numbers[0]\n",
        "            break\n",
        "result = ''.join(numbers)\n",
        "print(result)"
      ],
      "metadata": {
        "id": "ACtXvMEyli0L",
        "colab": {
          "base_uri": "https://localhost:8080/"
        },
        "outputId": "961a5402-b251-424c-c7d6-911c4222f01b"
      },
      "execution_count": 2,
      "outputs": [
        {
          "output_type": "stream",
          "name": "stdout",
          "text": [
            "3 0 8 1 8 8\n",
            "103888\n"
          ]
        }
      ]
    },
    {
      "cell_type": "markdown",
      "source": [
        "3.\tจากตัวเลขต่อไปนี้ ตัวเลขติดกัน 4 ตัวที่เมื่อนำมาคูณกันแล้วมีค่ามากที่สุดคือ 9 × 9 × 8 × 9 = 5832\n",
        "\n",
        "73167176531330624919225119674426574742355349194934\n",
        "96983520312774506326239578318016984801869478851843\n",
        "85861560789112949495459501737958331952853208805511\n",
        "12540698747158523863050715693290963295227443043557\n",
        "66896648950445244523161731856403098711121722383113\n",
        "62229893423380308135336276614282806444486645238749\n",
        "30358907296290491560440772390713810515859307960866\n",
        "70172427121883998797908792274921901699720888093776\n",
        "65727333001053367881220235421809751254540594752243\n",
        "52584907711670556013604839586446706324415722155397\n",
        "53697817977846174064955149290862569321978468622482\n",
        "83972241375657056057490261407972968652414535100474\n",
        "82166370484403199890008895243450658541227588666881\n",
        "16427171479924442928230863465674813919123162824586\n",
        "17866458359124566529476545682848912883142607690042\n",
        "24219022671055626321111109370544217506941658960408\n",
        "07198403850962455444362981230987879927244284909188\n",
        "84580156166097919133875499200524063689912560717606\n",
        "05886116467109405077541002256983155200055935729725\n",
        "71636269561882670428252483600823257530420752963450\n",
        "\n",
        "จงหาเลขติดกัน 8 ตัวที่เมื่อนำมาคูณกันแล้วมีค่ามากที่สุด และเป็นเลขอะไร ผลคูณเท่ากับเท่าไร\n",
        "\n",
        "The maximum product is: 7838208\n",
        "The digits are: 88399879\n",
        "\n",
        "\n",
        "\n"
      ],
      "metadata": {
        "id": "Gv8aIY7dliSY"
      }
    },
    {
      "cell_type": "code",
      "source": [
        "number_str = (\n",
        "    \"73167176531330624919225119674426574742355349194934\"\n",
        "    \"96983520312774506326239578318016984801869478851843\"\n",
        "    \"85861560789112949495459501737958331952853208805511\"\n",
        "    \"12540698747158523863050715693290963295227443043557\"\n",
        "    \"66896648950445244523161731856403098711121722383113\"\n",
        "    \"62229893423380308135336276614282806444486645238749\"\n",
        "    \"30358907296290491560440772390713810515859307960866\"\n",
        "    \"70172427121883998797908792274921901699720888093776\"\n",
        "    \"65727333001053367881220235421809751254540594752243\"\n",
        "    \"52584907711670556013604839586446706324415722155397\"\n",
        "    \"53697817977846174064955149290862569321978468622482\"\n",
        "    \"83972241375657056057490261407972968652414535100474\"\n",
        "    \"82166370484403199890008895243450658541227588666881\"\n",
        "    \"16427171479924442928230863465674813919123162824586\"\n",
        "    \"17866458359124566529476545682848912883142607690042\"\n",
        "    \"24219022671055626321111109370544217506941658960408\"\n",
        "    \"07198403850962455444362981230987879927244284909188\"\n",
        "    \"84580156166097919133875499200524063689912560717606\"\n",
        "    \"05886116467109405077541002256983155200055935729725\"\n",
        "    \"71636269561882670428252483600823257530420752963450\"\n",
        ")\n",
        "max_product = 0\n",
        "max_digits = \"\"\n",
        "\n",
        "for i in range(len(number_str) - 7):\n",
        "    digits = number_str[i:i + 8]\n",
        "    product = 1\n",
        "    for digit in digits:\n",
        "        product *= int(digit)\n",
        "    if product > max_product:\n",
        "        max_product = product\n",
        "        max_digits = digits\n",
        "print(f\"The maximum product is: {max_product}\")\n",
        "print(f\"The digits are: {max_digits}\")"
      ],
      "metadata": {
        "id": "wvVqGMknmBu5",
        "colab": {
          "base_uri": "https://localhost:8080/"
        },
        "outputId": "bd1b7982-7c3b-42ae-8860-72509e294654"
      },
      "execution_count": null,
      "outputs": [
        {
          "output_type": "stream",
          "name": "stdout",
          "text": [
            "The maximum product is: 7838208\n",
            "The digits are: 88399879\n"
          ]
        }
      ]
    },
    {
      "cell_type": "markdown",
      "source": [
        "4.\tตัวเลข palindrome คือตัวเลขที่อ่านได้ทั้ง 2 ทาง แล้วมีค่าเท่ากัน เช่น 9009 โดย 9009 คือ palindrome ที่เกิดจากการคูณของตัวเลข 2 หลักที่มากที่สุด คือ 91x99 จงหา palindrome ที่มากที่สุดของตัวเลข 3 หลัก\n",
        "\n",
        "The largest palindrome product of 3-digit numbers is: 906609\n"
      ],
      "metadata": {
        "id": "fjy5LNC7m0We"
      }
    },
    {
      "cell_type": "code",
      "source": [
        "max_digits = 3\n",
        "numbers = [\"0\", \"1\", \"2\", \"3\", \"4\", \"5\", \"6\", \"7\", \"8\", \"9\"]\n",
        "\n",
        "possible_numbers = range(1, (10**max_digits))\n",
        "\n",
        "max_num1 = 0\n",
        "max_num2 = 0\n",
        "max_palindrome = 0\n",
        "for num1 in possible_numbers:\n",
        "    for num2 in possible_numbers:\n",
        "        if len(str(num1)) > 1 and len(str(num2)) > 1:\n",
        "            product_result: int = num1 * num2\n",
        "\n",
        "\n",
        "            if str(product_result) == str(product_result)[::-1]:\n",
        "                if product_result > max_palindrome:\n",
        "                    max_num1 = num1\n",
        "                    max_num2 = num2\n",
        "                    max_palindrome = num1 * num2\n",
        "\n",
        "print(f\"{max_num1=}\")\n",
        "print(f\"{max_num2=}\")\n",
        "print(f\"{max_palindrome=} \")\n"
      ],
      "metadata": {
        "colab": {
          "base_uri": "https://localhost:8080/"
        },
        "id": "VJFKP47EfOFH",
        "outputId": "aaa7f903-f283-43c8-e325-c5ca7fba1a20"
      },
      "execution_count": 6,
      "outputs": [
        {
          "output_type": "stream",
          "name": "stdout",
          "text": [
            "max_num1=913\n",
            "max_num2=993\n",
            "max_palindrome=906609 \n"
          ]
        }
      ]
    },
    {
      "cell_type": "markdown",
      "source": [
        "5.\tกำหนดให้ string มีเพียงสัญลักษณ์ '(', ')', '{', '}', '[' และ ']' ให้ตรวจสอบว่า String ถูกต้อง โดย เมื่อมีวงเล็บเปิด จะต้องมีวงเล็บปิดที่เป็นชนิดเดียวกัน จำนวนเท่ากันที่เป็นคู่ของมัน\n",
        "\n",
        "```\n",
        "Input: s = \"()\"\n",
        "Output: true\n",
        "Input: s = \"()[]{}\"\n",
        "Output: true\n",
        "Input: s = \"[()]{}\"\n",
        "Output: true\n",
        "Input: s = \"(]\"\n",
        "Output: false\n",
        "```\n",
        "\n",
        "\n"
      ],
      "metadata": {
        "id": "rUZvLJ-JnGJY"
      }
    },
    {
      "cell_type": "code",
      "source": [
        "s = input().strip()\n",
        "stack = []\n",
        "pairs = {')': '(', '}': '{', ']': '['}\n",
        "for char in s:\n",
        "    if char in '({[':\n",
        "        stack.append(char)\n",
        "    elif char in ')}]':\n",
        "        if not stack or stack[-1] != pairs[char]:\n",
        "            print(\"ไม่ถูกต้อง\")\n",
        "            break\n",
        "        stack.pop()\n",
        "else:\n",
        "    if not stack:\n",
        "        print(\"ถูกต้อง\")\n",
        "    else:\n",
        "        print(\"ไม่ถูกต้อง\")"
      ],
      "metadata": {
        "colab": {
          "base_uri": "https://localhost:8080/"
        },
        "id": "hkf4j1QVf33j",
        "outputId": "8f05c26d-950d-43df-8dbe-cb648b95d9aa"
      },
      "execution_count": 9,
      "outputs": [
        {
          "output_type": "stream",
          "name": "stdout",
          "text": [
            "()\n",
            "ถูกต้อง\n"
          ]
        }
      ]
    },
    {
      "cell_type": "markdown",
      "source": [
        "6.\tกำหนดให้รับข้อมูล Integer (เป็นบวกหรือลบก็ได้) จากนั้นให้แสดงผลลัพธ์ที่ reverse ตัวเลขตามตัวอย่าง\n",
        "\n",
        "```\n",
        "Input: x = 123\n",
        "Output: 321\n",
        "Input: x = -123\n",
        "Output: -321\n",
        "Input: x = 120\n",
        "Output: 21\n",
        "```\n",
        "\n"
      ],
      "metadata": {
        "id": "PLL9Wdqqnx7o"
      }
    },
    {
      "cell_type": "code",
      "source": [
        "x = input(\"\")\n",
        "if x.isalpha() == True:\n",
        "  print(\"error\")\n",
        "elif x[0] == \"-\" and x[1].isalpha() == True:\n",
        "  print(\"error\")\n",
        "elif x[0] == \"-\":\n",
        "  int1 = x[:0:-1]\n",
        "  int1 = int(int1)\n",
        "  print(f\"{x[0]}{int1}\")\n",
        "elif x[-1] == \"0\":\n",
        "  int2 = x [::-1]\n",
        "  int2 = int(int2)\n",
        "  print(f\"{int2}\")\n",
        "else:\n",
        "  print(x[::-1])\n",
        "\n",
        "\n"
      ],
      "metadata": {
        "id": "SxdFD4VUo9U5",
        "outputId": "a7665352-4776-437c-87c9-76725ddb3901",
        "colab": {
          "base_uri": "https://localhost:8080/"
        }
      },
      "execution_count": null,
      "outputs": [
        {
          "output_type": "stream",
          "name": "stdout",
          "text": [
            "1a234\n",
            "432a1\n"
          ]
        }
      ]
    },
    {
      "cell_type": "markdown",
      "source": [
        "7.\tเขียนโปรแกรมเพื่อแสดงปิรามิดบนจอภาพ โดยแสดงเป็นรูปสี่เหลี่ยม ตัวเลขเริ่มจาก 0  และเพิ่มค่าตามลําดับจํานวนขั้น จาก 0 ถึง N (รับค่า N จากคีย์บอร์ด) ค่าของ N อยู่ระหว่าง 0-9 ดังตัวอย่าง\n",
        "\n",
        "\n",
        "```\n",
        "\t\t\t\t\t\t\t\t\t         0000000\n",
        "\t\t\t\t\t\t\t    00000\t\t0111110\n",
        "\t\t\t\t\t000\t\t 01110\t\t0122210\n",
        "\t\t\t0\t\t010\t\t01210\t\t0123210\n",
        "\t\t\t\t\t000\t\t 01110\t\t0122210\n",
        "\t\t\t\t\t\t\t    00000\t\t0111110\n",
        "\t\t\t\t\t\t\t\t\t         0000000\n",
        "\n",
        "\t\t\tn=0\t\tn=1\t\tn=2\t\tn=3\n",
        "\n",
        "```\n",
        "\n"
      ],
      "metadata": {
        "id": "KboD6c8rn52a"
      }
    },
    {
      "cell_type": "code",
      "source": [
        "n = int(input(\"\"))\n",
        "line_number: int = 2 * n + 1\n",
        "\n",
        "number_lines = []\n",
        "for i in range(0, line_number//2 + 1):\n",
        "    value = \"\"\n",
        "    for j in range(0, i + 1):\n",
        "        value += f\"{j}\"\n",
        "\n",
        "    if len(value) < line_number//2 + 1:\n",
        "        last_char = value[-1]\n",
        "        for k in range(len(value), line_number//2):\n",
        "            value += last_char\n",
        "\n",
        "        tmp_value = value[:len(value) - 1]\n",
        "        value += value[-1] + value[::-1]\n",
        "        number_lines.append(value)\n",
        "    else:\n",
        "        tmp_value = value[:len(value) - 1]\n",
        "        value += tmp_value[::-1]\n",
        "        number_lines.append(value)\n",
        "\n",
        "removed_last_lines = number_lines[:len(number_lines) - 1]\n",
        "number_lines.extend(removed_last_lines[::-1])\n",
        "\n",
        "print(f\"{n=}\")\n",
        "for line in number_lines:\n",
        "    print(line)"
      ],
      "metadata": {
        "id": "sGhw6Iyfobiz",
        "colab": {
          "base_uri": "https://localhost:8080/"
        },
        "outputId": "533a9986-754c-46b4-f3b0-78810bca2940"
      },
      "execution_count": 6,
      "outputs": [
        {
          "output_type": "stream",
          "name": "stdout",
          "text": [
            "9\n",
            "n=9\n",
            "0000000000000000000\n",
            "0111111111111111110\n",
            "0122222222222222210\n",
            "0123333333333333210\n",
            "0123444444444443210\n",
            "0123455555555543210\n",
            "0123456666666543210\n",
            "0123456777776543210\n",
            "0123456788876543210\n",
            "0123456789876543210\n",
            "0123456788876543210\n",
            "0123456777776543210\n",
            "0123456666666543210\n",
            "0123455555555543210\n",
            "0123444444444443210\n",
            "0123333333333333210\n",
            "0122222222222222210\n",
            "0111111111111111110\n",
            "0000000000000000000\n"
          ]
        }
      ]
    },
    {
      "cell_type": "markdown",
      "source": [
        "8.\tเขียนโปรแกรมเพื่อแสดงปิรามิดบนจอภาพ โดยแสดงเป็นรูปสี่เหลี่ยม ตัวเลขเริ่มจาก 0  และเพิ่มค่าตามลําดับจํานวนขั้น จาก 0 ถึง N (รับค่า N จากคีย์บอร์ด) กําหนดให้จุดศูนย์กลางของรูปสี่เหลี่ยมอยู่ที่แถว 13 คอลัมน์ 40 ของจอภาพค่าของ N อยู่ระหว่าง 0-9 ดังตัวอย่าง\n",
        "\n",
        "\n",
        "\n",
        "```\n",
        "\t\t\t\t\t\t\t\t\t            0\n",
        "\t\t\t\t\t\t\t      0\t\t    010\n",
        "\t\t\t\t\t  0\t\t  010\t\t  01210\n",
        "\t\t\t0\t\t010\t\t01210\t\t0123210\n",
        "\t\t\t\t\t  0\t\t  010\t\t  01210\n",
        "\t\t\t\t\t\t\t      0\t\t    010\n",
        "\t\t\t\t\t\t\t\t\t            0\n",
        "\n",
        "\t\t\tn=0\t\tn=1\t\tn=2\t\tn=3\n",
        "\n",
        "```\n",
        "\n"
      ],
      "metadata": {
        "id": "ecRYU6Lkob6Q"
      }
    },
    {
      "cell_type": "code",
      "source": [
        "n = int(input(\"\"))\n",
        "line_number: int = 2 * n + 1\n",
        "\n",
        "number_lines = []\n",
        "for i in range(0, line_number//2 + 1):\n",
        "    value = \"\"\n",
        "    for j in range(0, i + 1):\n",
        "        value += f\"{j}\"\n",
        "\n",
        "    if len(value) < line_number//2 + 1:\n",
        "        need_space_no = line_number//2 + 1 - len(value)\n",
        "        space_value = \" \" * need_space_no\n",
        "        add_space_value = space_value + value\n",
        "        first_chars = value[:i + 1] if i < 1 else value[:i]\n",
        "        reversed_first_chars = first_chars[::-1]\n",
        "        if first_chars != value[-1]:\n",
        "            add_space_value += reversed_first_chars\n",
        "        add_space_value += space_value\n",
        "        number_lines.append(add_space_value)\n",
        "\n",
        "removed_last_lines = number_lines[:len(number_lines) - 1]\n",
        "number_lines.extend(removed_last_lines[::-1])\n",
        "\n",
        "print(f\"{n=}\")\n",
        "for line in number_lines:\n",
        "    print(line)"
      ],
      "metadata": {
        "id": "dgWkp_RL2ZkG",
        "outputId": "0f87b141-ecc1-4046-8384-5b4502d3475a",
        "colab": {
          "base_uri": "https://localhost:8080/"
        }
      },
      "execution_count": 10,
      "outputs": [
        {
          "output_type": "stream",
          "name": "stdout",
          "text": [
            "3\n",
            "n=3\n",
            "   0   \n",
            "  010  \n",
            " 01210 \n",
            "  010  \n",
            "   0   \n"
          ]
        }
      ]
    },
    {
      "cell_type": "markdown",
      "source": [
        "9.\tให้เขียนโปรแกรมสร้างรูปสามเหลี่ยมที่วางซ้อนกัน 3 รูป โดยแต่ละรูปสร้างมาจากเครื่องหมาย \"*\" โดยกําหนดให้รับตัวเลขระดับของสามเหลี่ยมจากคีย์บอร์ด จากตัวอย่างข้างล่างนี้เป็นรูปสามเหลี่ยมระดับที่ 3 และ 4\n",
        "\n",
        "\n",
        "\n",
        "```\n",
        "              *\n",
        "\t\t     ***\n",
        "\t\t    *****\n",
        "\t\t   *     *\n",
        "\t      ***   ***\n",
        "\t     ***** *****\n",
        "\n",
        "  \t\t    *\n",
        "\t  \t   ***\n",
        "\t\t    *****\n",
        "\t\t   *******\n",
        "\t      *       *\n",
        "\t     ***     ***\n",
        "\t    *****   *****\n",
        "\t   ******* *******\n",
        "\n",
        "```\n",
        "\n"
      ],
      "metadata": {
        "id": "Po50A-Kuo5t4"
      }
    },
    {
      "cell_type": "code",
      "source": [
        "num = int(input(\"Row : \"))\n",
        "for i in range(num):\n",
        "    for j in range((num*2)-i-1):\n",
        "        print(' ',end=\"\")\n",
        "    for j in range(i+1):\n",
        "        print('*',end=\"\")\n",
        "    for j in range(i):\n",
        "        print('*',end=\"\")\n",
        "    print()\n",
        "for i in range(num):\n",
        "    for j in range(num-i-1):\n",
        "        print(' ',end=\"\")\n",
        "    for j in range(i+1):\n",
        "        print('*',end=\"\")\n",
        "    for j in range(i):\n",
        "        print('*',end=\"\")\n",
        "    for j in range(num-i):\n",
        "        print(' ',end=\"\")\n",
        "    for j in range(num-i-1):\n",
        "        print(' ',end=\"\")\n",
        "    for j in range(i+1):\n",
        "        print('*',end=\"\")\n",
        "    for j in range(i):\n",
        "        print('*',end=\"\")\n",
        "    print()\n",
        "\n",
        "\n",
        "\n"
      ],
      "metadata": {
        "colab": {
          "base_uri": "https://localhost:8080/"
        },
        "id": "vtVdWgJ-eUev",
        "outputId": "596c3422-ce05-4ba1-8c5e-00ca1ea45631"
      },
      "execution_count": 5,
      "outputs": [
        {
          "output_type": "stream",
          "name": "stdout",
          "text": [
            "Row : 3\n",
            "     *\n",
            "    ***\n",
            "   *****\n",
            "  *     *\n",
            " ***   ***\n",
            "***** *****\n"
          ]
        }
      ]
    }
  ]
}